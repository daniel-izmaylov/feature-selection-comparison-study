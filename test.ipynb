{
 "cells": [
  {
   "cell_type": "code",
   "execution_count": 111,
   "metadata": {},
   "outputs": [],
   "source": [
    "import pandas as pd \n",
    "import pickle \n"
   ]
  },
  {
   "cell_type": "code",
   "execution_count": 112,
   "metadata": {},
   "outputs": [],
   "source": [
    "with open(\"results/ARFF_CNS.pkl\",'rb') as f:\n",
    "    results=pickle.load(f)\n",
    "db=pd.read_csv(\"after_preprocess/\"+\"ARFF_CNS\"+\".csv\",header=0)\n",
    "columns=list(db.columns)"
   ]
  },
  {
   "cell_type": "code",
   "execution_count": 134,
   "metadata": {},
   "outputs": [],
   "source": [
    "def get_fold(x):\n",
    "    if x<50:\n",
    "        return \"Leave-pair-out\"\n",
    "    elif x<=100:\n",
    "        return \"LOOCV\"\n",
    "    elif x<=1000:\n",
    "        return \"StratifiedKFold n_splits = 10\"\n",
    "    else:\n",
    "        return \"StratifiedKFold n_splits = 5\"\n",
    "\n",
    "\n",
    "def turn_resDict_to_df(results,columns):\n",
    "    all_df=[]\n",
    "    for algo_name,fs_algo_lst in list(results.items())[:-3]:\n",
    "        # database_name= results\n",
    "        for k, k_res in list(fs_algo_lst.items())[:-1]:\n",
    "            fs_time= fs_algo_lst[\"fs_algo\"]\n",
    "            # print(fold, fold_res)\n",
    "            chosen_features= k_res[\"chosen_features\"]\n",
    "            feature_rank= k_res[\"feature_rank\"]\n",
    "            # print(fold)\n",
    "            # print(fold_res.keys())\n",
    "            for clf_name,clf_res in list(k_res.items())[2:]:\n",
    "                for fold_name, fold_res in clf_res.items():\n",
    "                    # print(fold_res)\n",
    "                    infrence_time=fold_res[\"infrence_time\"]\n",
    "                    # del fold_res[\"infrence_time\"]\n",
    "                    temp_d=pd.DataFrame.from_dict(fold_res, orient='index')\n",
    "                    temp_d.reset_index(inplace=True)\n",
    "                    temp_d=temp_d.melt(id_vars='index')\n",
    "                    temp_d.drop(columns=['variable'],inplace=True)\n",
    "                    temp_d[\"infrence_time\"]=[infrence_time]*temp_d.shape[0]\n",
    "                    temp_d[\"Learning algorithm\"]=[clf_name]*temp_d.shape[0]\n",
    "                    temp_d[\"Number of features selected (K)\"]=[k]*temp_d.shape[0]\n",
    "                    temp_d[\"chosen_features\"]=[chosen_features]*temp_d.shape[0]\n",
    "                    temp_d[\"Selected Features scores\"]=[feature_rank]*temp_d.shape[0]\n",
    "                    temp_d[\"Filtering Algorithm\"]=[algo_name]*temp_d.shape[0]\n",
    "                    temp_d[\"Fold\"]=[fold_name]*temp_d.shape[0]\n",
    "                    temp_d[\"fs_time\"]=[fs_time]*temp_d.shape[0]\n",
    "                    all_df.append(temp_d.copy(deep=True))\n",
    "    all_df=pd.concat(all_df, ignore_index=True)\n",
    "    all_df[\"Dataset Name\"]=results[\"Dataset Name\"]\n",
    "    all_df[\"Number of samples\"]=results[\"Number of samples\"]\n",
    "    all_df[\"Original Number of features\"]=results[\"Original Number of features\"]\n",
    "    all_df[\"chosen_features\"]= all_df[\"chosen_features\"].apply(lambda x: [columns[i] for i in x])\n",
    "    all_df[\"CV Method\"]=get_fold(results[\"Original Number of features\"])\n",
    "    return all_df\n",
    "\n",
    "\n",
    "# t=turn_resDict_to_df(results,columns)\n"
   ]
  },
  {
   "cell_type": "code",
   "execution_count": null,
   "metadata": {},
   "outputs": [],
   "source": []
  }
 ],
 "metadata": {
  "kernelspec": {
   "display_name": "Python 3.7.12 ('tf_cpu')",
   "language": "python",
   "name": "python3"
  },
  "language_info": {
   "codemirror_mode": {
    "name": "ipython",
    "version": 3
   },
   "file_extension": ".py",
   "mimetype": "text/x-python",
   "name": "python",
   "nbconvert_exporter": "python",
   "pygments_lexer": "ipython3",
   "version": "3.7.12"
  },
  "orig_nbformat": 4,
  "vscode": {
   "interpreter": {
    "hash": "2d3f0ae1c4fd3075523c8386ec335a5274e8d52dd5107da19ac17cea63255776"
   }
  }
 },
 "nbformat": 4,
 "nbformat_minor": 2
}
