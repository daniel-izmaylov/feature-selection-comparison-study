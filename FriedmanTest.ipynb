{
 "cells": [
  {
   "cell_type": "code",
   "execution_count": 3,
   "metadata": {},
   "outputs": [],
   "source": [
    "import pandas as pd\n",
    "import numpy as np\n",
    "import csv\n",
    "\n",
    "FS_ALGO = ['dssa', 'f_classif', 'Genetic', 'MRMR', 'New_dssa', 'ReliefF', 'SVM']\n",
    "\n",
    "def output_data(name):\n",
    "    df = pd.read_csv(name, header=0)\n",
    "\n",
    "    df_name = name.split(\"/\")[1].split(\".\")[0].replace(\"_results\", \"\")\n",
    "    CLASSIFIERS = df[\"Learning algorithm\"].unique()\n",
    "    Ks = df[\"Number of features selected (K)\"].unique()\n",
    "\n",
    "    for cls in CLASSIFIERS:\n",
    "        for k in Ks:\n",
    "            res = []\n",
    "            scores = df.loc[(df['index'] == 'AUC') & (df['Learning algorithm'] == cls) & (df['Number of features selected (K)'] == k)].groupby(\"Filtering Algorithm\").mean()[\"value\"]\n",
    "            row = np.array([df_name, cls, k])\n",
    "            row = np.concatenate((row, scores.values), axis=0)\n",
    "\n",
    "            scoresdf = pd.DataFrame(scores.values)\n",
    "            ranks = scoresdf[0].rank(ascending=False)\n",
    "\n",
    "            row = np.concatenate((row, ranks), axis=0)\n",
    "\n",
    "            with open(\"friedman.csv\", \"a\", newline=\"\") as fn:\n",
    "                write = csv.writer(fn)\n",
    "                write.writerow(row)"
   ]
  },
  {
   "cell_type": "code",
   "execution_count": 28,
   "metadata": {},
   "outputs": [],
   "source": [
    "import os\n",
    "\n",
    "path = 'results/'\n",
    "all_files = []\n",
    "for file in os.listdir(path):\n",
    "    if os.path.isfile(os.path.join(path, file)):\n",
    "        all_files.append(os.path.join(path, file))\n",
    "\n",
    "for name in all_files:\n",
    "    output_data(name)"
   ]
  },
  {
   "cell_type": "code",
   "execution_count": 26,
   "metadata": {},
   "outputs": [],
   "source": [
    "def friedman():\n",
    "    df = pd.read_csv(\"friedman.csv\", header=None)\n",
    "    ranks = df.iloc[:, -7:]\n",
    "    average_rank = ranks.mean(axis=0)\n",
    "    print(average_rank)\n",
    "    N = df.shape[0]\n",
    "    L = 7\n",
    "    sigma = sum([value ** 2 for value in average_rank])\n",
    "\n",
    "    chi = ((12*N)/(L * (L+1)))*(sigma - (L*((L+1)**2))/4)\n",
    "    FF = ((N-1)*chi)/(N * (L-1) - chi)\n",
    "\n",
    "    return N, L, sigma, chi, FF"
   ]
  }
 ],
 "metadata": {
  "kernelspec": {
   "display_name": "Python 3.9.5 64-bit",
   "language": "python",
   "name": "python3"
  },
  "language_info": {
   "codemirror_mode": {
    "name": "ipython",
    "version": 3
   },
   "file_extension": ".py",
   "mimetype": "text/x-python",
   "name": "python",
   "nbconvert_exporter": "python",
   "pygments_lexer": "ipython3",
   "version": "3.9.5"
  },
  "orig_nbformat": 4,
  "vscode": {
   "interpreter": {
    "hash": "cf92aa13fedf815d5c8dd192b8d835913fde3e8bc926b2a0ad6cc74ef2ba3ca2"
   }
  }
 },
 "nbformat": 4,
 "nbformat_minor": 2
}
