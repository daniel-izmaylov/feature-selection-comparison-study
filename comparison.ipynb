{
 "cells": [
  {
   "cell_type": "code",
   "execution_count": 1,
   "metadata": {},
   "outputs": [],
   "source": [
    "import pandas as pd \n",
    "import numpy as np\n",
    "from sklearn.pipeline import Pipeline\n",
    "from sklearn.datasets import make_classification\n",
    "from sklearn.preprocessing import StandardScaler\n",
    "from sklearn.model_selection import GridSearchCV\n",
    "from sklearn.neighbors import KNeighborsClassifier\n",
    "from sklearn.linear_model import LogisticRegression\n",
    "from sklearn.ensemble import RandomForestClassifier\n",
    "from sklearn.feature_selection import SelectKBest, mutual_info_classif\n",
    "# pd.options.plotting.backend = \"plotly\""
   ]
  },
  {
   "cell_type": "code",
   "execution_count": 2,
   "metadata": {},
   "outputs": [],
   "source": [
    "import scipy.io\n",
    "mat =scipy.io.loadmat('/home/izmaylov/test/feature_selection/scikit-Dataset/lymphoma.mat')\n",
    "X=mat['X']\n",
    "y = mat['Y'][:, 0] \n",
    "\n"
   ]
  },
  {
   "cell_type": "code",
   "execution_count": 3,
   "metadata": {},
   "outputs": [],
   "source": [
    "from sklearn.model_selection import train_test_split\n",
    "X_train, X_test, y_train, y_test = train_test_split(X, y, test_size=0.2, random_state=40)"
   ]
  },
  {
   "cell_type": "code",
   "execution_count": 4,
   "metadata": {},
   "outputs": [],
   "source": [
    "from skfeature.function.information_theoretical_based import MRMR\n",
    "# num_fea = 5  \n",
    "# idx  = MRMR.mrmr(X_train, y_train)\n",
    "# selected_features_train = X_train[:, idx[0:num_fea]]\n",
    "# selected_features_test = X_test[:, idx[0:num_fea]]"
   ]
  },
  {
   "cell_type": "code",
   "execution_count": 5,
   "metadata": {},
   "outputs": [
    {
     "data": {
      "text/plain": [
       "Pipeline(steps=[('reduce_dim', PCA()), ('clf', SVC())])"
      ]
     },
     "execution_count": 5,
     "metadata": {},
     "output_type": "execute_result"
    }
   ],
   "source": [
    "from sklearn.pipeline import Pipeline\n",
    "from sklearn.svm import SVC\n",
    "from sklearn.decomposition import PCA\n",
    "estimators = [('reduce_dim', PCA()), ('clf', SVC())]\n",
    "pipe = Pipeline(estimators)\n",
    "pipe"
   ]
  },
  {
   "cell_type": "code",
   "execution_count": 6,
   "metadata": {},
   "outputs": [],
   "source": [
    "from sklearn.model_selection import GridSearchCV\n",
    "#import logistic_regression \n",
    "from sklearn.linear_model import LogisticRegression\n",
    "from sklearn.ensemble import RandomForestClassifier\n",
    "from sklearn.neighbors import KNeighborsClassifier\n",
    "from sklearn.svm import SVC\n",
    "#import naive_bayes\n",
    "from sklearn.naive_bayes import GaussianNB\n",
    "from sklearn.feature_selection import SelectFdr\n",
    "\n",
    "from tempfile import mkdtemp\n",
    "from joblib import Memory\n",
    "from shutil import rmtree\n",
    "\n",
    "# search_space = [{'selector__k': [5, 10, 20, 30]},\n",
    "#                 {'classifier': [LogisticRegression(solver='lbfgs')]},\n",
    "#                 {'classifier': [RandomForestClassifier(n_estimators=100)]}]\n",
    "#                 # {'classifier': [KNeighborsClassifier()]},\n",
    "#                 # {'classifier': [GaussianNB()]},\n",
    "#                 # {'classifier': [SVC()]}]\n",
    "# # grid_search = GridSearchCV(pipe, param_grid=search_space)\n",
    "cachedir = mkdtemp()\n",
    "location = \"cachedir\"\n",
    "memory = Memory(location=location, verbose=False)\n",
    "\n",
    "# pipe = Pipeline([('selector', SelectKBest(mutual_info_classif, k=5)),\n",
    "#                  ('classifier', LogisticRegression())],memory=memory)"
   ]
  },
  {
   "cell_type": "code",
   "execution_count": 7,
   "metadata": {},
   "outputs": [],
   "source": [
    "import itertools\n",
    "def make_param_grids(steps, param_grids):\n",
    "\n",
    "    final_params=[]\n",
    "\n",
    "    # Itertools.product will do a permutation such that \n",
    "    # (pca OR svd) AND (svm OR rf) will become ->\n",
    "    # (pca, svm) , (pca, rf) , (svd, svm) , (svd, rf)\n",
    "    for estimator_names in itertools.product(*steps.values()):\n",
    "        current_grid = {}\n",
    "\n",
    "        # Step_name and estimator_name should correspond\n",
    "        # i.e preprocessor must be from pca and select.\n",
    "        for step_name, estimator_name in zip(steps.keys(), estimator_names):\n",
    "            for param, value in param_grids.get(estimator_name).items():\n",
    "                if param == 'object':\n",
    "                    # Set actual estimator in pipeline\n",
    "                    current_grid[step_name]=[value]\n",
    "                else:\n",
    "                    # Set parameters corresponding to above estimator\n",
    "                    current_grid[step_name+'__'+param]=value\n",
    "        #Append this dictionary to final params            \n",
    "        final_params.append(current_grid)\n",
    "\n",
    "    return final_params"
   ]
  },
  {
   "cell_type": "code",
   "execution_count": null,
   "metadata": {},
   "outputs": [],
   "source": []
  },
  {
   "cell_type": "code",
   "execution_count": 57,
   "metadata": {},
   "outputs": [
    {
     "name": "stdout",
     "output_type": "stream",
     "text": [
      "[{'preprocessor': [SelectKBest()], 'preprocessor__k': [5], 'classifier': [GaussianNB()]}, {'preprocessor': [SelectKBest()], 'preprocessor__k': [5], 'classifier': [KNeighborsClassifier()]}, {'preprocessor': [SelectFdr()], 'preprocessor__score_func': [<function f_classif at 0x7f0959f92cb0>], 'preprocessor__alpha': [0.1], 'classifier': [GaussianNB()]}, {'preprocessor': [SelectFdr()], 'preprocessor__score_func': [<function f_classif at 0x7f0959f92cb0>], 'preprocessor__alpha': [0.1], 'classifier': [KNeighborsClassifier()]}]\n",
      "f\n"
     ]
    },
    {
     "name": "stderr",
     "output_type": "stream",
     "text": [
      "/home/izmaylov/.conda/envs/tf_cpu/lib/python3.7/site-packages/sklearn/model_selection/_split.py:680: UserWarning: The least populated class in y has only 2 members, which is less than n_splits=5.\n",
      "  UserWarning,\n",
      "/home/izmaylov/.conda/envs/tf_cpu/lib/python3.7/site-packages/sklearn/model_selection/_validation.py:372: FitFailedWarning: \n",
      "20 fits failed out of a total of 20.\n",
      "The score on these train-test partitions for these parameters will be set to nan.\n",
      "If these failures are not expected, you can try to debug them by setting error_score='raise'.\n",
      "\n",
      "Below are more details about the failures:\n",
      "--------------------------------------------------------------------------------\n",
      "20 fits failed with the following error:\n",
      "Traceback (most recent call last):\n",
      "  File \"/home/izmaylov/.conda/envs/tf_cpu/lib/python3.7/site-packages/sklearn/model_selection/_validation.py\", line 680, in _fit_and_score\n",
      "    estimator.fit(X_train, y_train, **fit_params)\n",
      "  File \"/home/izmaylov/.conda/envs/tf_cpu/lib/python3.7/site-packages/sklearn/pipeline.py\", line 389, in fit\n",
      "    fit_params_steps = self._check_fit_params(**fit_params)\n",
      "  File \"/home/izmaylov/.conda/envs/tf_cpu/lib/python3.7/site-packages/sklearn/pipeline.py\", line 305, in _check_fit_params\n",
      "    \"=sample_weight)`.\".format(pname)\n",
      "ValueError: Pipeline.fit does not accept the callback parameter. You can pass parameters to specific steps of your pipeline using the stepname__parameter format, e.g. `Pipeline.fit(X, y, logisticregression__sample_weight=sample_weight)`.\n",
      "\n",
      "  warnings.warn(some_fits_failed_message, FitFailedWarning)\n",
      "/home/izmaylov/.conda/envs/tf_cpu/lib/python3.7/site-packages/sklearn/model_selection/_search.py:972: UserWarning: One or more of the test scores are non-finite: [nan nan nan nan]\n",
      "  category=UserWarning,\n"
     ]
    }
   ],
   "source": [
    "from sklearn.feature_selection import SelectFdr, chi2, f_classif\n",
    "SelectFdr(f_classif, alpha=0.1)\n",
    "\n",
    "\"\"\"example of param_grid:\n",
    "https://stackoverflow.com/questions/42266737/parallel-pipeline-to-get-best-model-using-gridsearch\n",
    "\n",
    "pipeline_steps = {'preprocessor':['pca', 'select'],\n",
    "                  'classifier':['svm', 'rf']}\n",
    "# fill parameters to be searched in this dict\n",
    "all_param_grids = {'svm':{'object':SVC(),\n",
    "                         }, \n",
    "\n",
    "                   'rf':{'object':RandomForestClassifier(),\n",
    "                        },\n",
    "\n",
    "                   'pca':{'object':PCA(),\n",
    "                          'n_components':[10,20]\n",
    "                         },\n",
    "\n",
    "                   'select':{'object':SelectKBest(),\n",
    "                             'k':[5,10]\n",
    "                            }\n",
    "                  }  \n",
    "\n",
    "{\n",
    "      \"SelectFdr\":{\"object\":{SelectFdr(f_classif, alpha=0.1)}},\n",
    "      # \"MRMR\":{\"object\":{MRMR.mrmr()}},\n",
    "      'pca':{'object':PCA()},\n",
    "      # \"LogisticRegression\": {\"object\": LogisticRegression(solver='lbfgs')},\n",
    "      # \"RandomForest\": {\"object\": RandomForestClassifier(n_estimators=100)},\n",
    "      # \"KNeighbors\": {\"object\": KNeighborsClassifier()},\n",
    "      \"naive_bayes\": {\"object\": GaussianNB()},\n",
    "      # \"SVD\":      {\"object\": SVC()}\n",
    "}\n",
    "\"\"\"\n",
    "from sklearn.base import BaseEstimator, TransformerMixin \n",
    "# import  sklearn.metrics._scorer:\n",
    "from sklearn.metrics import make_scorer\n",
    "from sklearn.metrics import matthews_corrcoef\n",
    "from sklearn.metrics import roc_auc_score\n",
    "from sklearn.metrics import accuracy_score\n",
    "from sklearn.metrics import average_precision_score\n",
    "\n",
    "# class Test(BaseEstimator, TransformerMixin ):\n",
    "#       def __init__(self, k=5):\n",
    "#             self.k = k\n",
    "\n",
    "#       def fit(self, X, y=None):\n",
    "#             self.idx  = MRMR.mrmr(X_train, y_train)\n",
    "#             return self\n",
    "\n",
    "#       def fit_transform(self, X, y=None, **fit_params):\n",
    "#         if y is None:\n",
    "#             # fit method of arity 1 (unsupervised transformation)\n",
    "#             return self.fit(X, **fit_params).transform(X)\n",
    "#         else:\n",
    "#             # fit method of arity 2 (supervised transformation)\n",
    "#             return self.fit(X, y, **fit_params).transform(X)\n",
    "            \n",
    "#       def transform(self, X):\n",
    "#             return X[:, self.idx[0:self.k]]\n",
    "\n",
    "# def Test(*args):\n",
    "#     print(args)\n",
    "#     return args\n",
    "# pipeline_steps = {'preprocessor':['pca', 'SelectFdr',\"Mrmr\"],\n",
    "pipeline_steps = {'preprocessor':[\"MRMR\",\"SelectFdr\"],\n",
    "                  'classifier':['naive_bayes',\"KNeighbors\"]}\n",
    "# X_new = SelectKBest(score_func= MRMR.mrmr, k=20).fit_transform(X, y)\n",
    "def on_step(optim_result):\n",
    "      # print(optim_result)\n",
    "      return True\n",
    "#     score = searchcv.best_score_\n",
    "#     print(\"best score: %s\" % score)\n",
    "#     if score >= 0.98:\n",
    "#         print('Interrupting!')\n",
    "#         return True\n",
    "\n",
    "all_param_grids =   {\n",
    "                  \"SelectFdr\":{\"object\":SelectFdr(),\n",
    "                              \"score_func\":[f_classif],\n",
    "                              \"alpha\":[0.1]},\n",
    "                  'pca':{'object':PCA()},\n",
    "                  # 'MRMR':{'object':SelectKBest(MRMR.mrmr),\n",
    "                  'MRMR':{'object':SelectKBest(),\n",
    "                             'k':[5],\n",
    "                            },\n",
    "                  \"naive_bayes\": {\"object\": GaussianNB()},\n",
    "                  \"KNeighbors\": {\"object\": KNeighborsClassifier()},\n",
    "\n",
    "            }\n",
    "# t=Test()\n",
    "# t.fit(X_train, y_train)\n",
    "# t.transform(X_train)\n",
    "# Call the method on the above declared variables\n",
    "param_grids_list = make_param_grids(pipeline_steps, all_param_grids)\n",
    "cachedir = mkdtemp()\n",
    "location = \"cachedir\"\n",
    "memory = Memory(location=location, verbose=False)\n",
    "\n",
    "pipe = Pipeline(steps=[('preprocessor',PCA()), ('classifier', SVC())],memory=memory)  \n",
    "scoring = {\n",
    "      # \"roc_auc\": make_scorer(roc_auc_score),\n",
    "            \"accuracy\": make_scorer(accuracy_score),\n",
    "            # \"matthews_corrcoef\": make_scorer(matthews_corrcoef),\n",
    "            # \"PR-AUC\": make_scorer(average_precision_score),\n",
    "            }\n",
    "\n",
    "print(param_grids_list)\n",
    "\n",
    "\n",
    "grd = GridSearchCV(pipe, param_grid = param_grids_list,verbose=False, scoring=scoring,refit=False)\n",
    "grd.fit(X, y,callback=[on_step])\n",
    "print(\"f\")"
   ]
  },
  {
   "cell_type": "code",
   "execution_count": null,
   "metadata": {},
   "outputs": [],
   "source": [
    "estimator"
   ]
  },
  {
   "cell_type": "code",
   "execution_count": 38,
   "metadata": {},
   "outputs": [
    {
     "ename": "TypeError",
     "evalue": "'str' object is not callable",
     "output_type": "error",
     "traceback": [
      "\u001b[0;31m---------------------------------------------------------------------------\u001b[0m",
      "\u001b[0;31mTypeError\u001b[0m                                 Traceback (most recent call last)",
      "\u001b[0;32m/tmp/ipykernel_11639/3175729911.py\u001b[0m in \u001b[0;36m<module>\u001b[0;34m\u001b[0m\n\u001b[0;32m----> 1\u001b[0;31m \u001b[0mmemory\u001b[0m\u001b[0;34m.\u001b[0m\u001b[0meval\u001b[0m\u001b[0;34m(\u001b[0m\u001b[0;34m\"grd.best_estimator_\"\u001b[0m\u001b[0;34m)\u001b[0m\u001b[0;34m\u001b[0m\u001b[0;34m\u001b[0m\u001b[0m\n\u001b[0m",
      "\u001b[0;32m~/.conda/envs/tf_cpu/lib/python3.7/site-packages/joblib/memory.py\u001b[0m in \u001b[0;36meval\u001b[0;34m(self, func, *args, **kwargs)\u001b[0m\n\u001b[1;32m   1038\u001b[0m         \u001b[0;32mif\u001b[0m \u001b[0mself\u001b[0m\u001b[0;34m.\u001b[0m\u001b[0mstore_backend\u001b[0m \u001b[0;32mis\u001b[0m \u001b[0;32mNone\u001b[0m\u001b[0;34m:\u001b[0m\u001b[0;34m\u001b[0m\u001b[0;34m\u001b[0m\u001b[0m\n\u001b[1;32m   1039\u001b[0m             \u001b[0;32mreturn\u001b[0m \u001b[0mfunc\u001b[0m\u001b[0;34m(\u001b[0m\u001b[0;34m*\u001b[0m\u001b[0margs\u001b[0m\u001b[0;34m,\u001b[0m \u001b[0;34m**\u001b[0m\u001b[0mkwargs\u001b[0m\u001b[0;34m)\u001b[0m\u001b[0;34m\u001b[0m\u001b[0;34m\u001b[0m\u001b[0m\n\u001b[0;32m-> 1040\u001b[0;31m         \u001b[0;32mreturn\u001b[0m \u001b[0mself\u001b[0m\u001b[0;34m.\u001b[0m\u001b[0mcache\u001b[0m\u001b[0;34m(\u001b[0m\u001b[0mfunc\u001b[0m\u001b[0;34m)\u001b[0m\u001b[0;34m(\u001b[0m\u001b[0;34m*\u001b[0m\u001b[0margs\u001b[0m\u001b[0;34m,\u001b[0m \u001b[0;34m**\u001b[0m\u001b[0mkwargs\u001b[0m\u001b[0;34m)\u001b[0m\u001b[0;34m\u001b[0m\u001b[0;34m\u001b[0m\u001b[0m\n\u001b[0m\u001b[1;32m   1041\u001b[0m \u001b[0;34m\u001b[0m\u001b[0m\n\u001b[1;32m   1042\u001b[0m     \u001b[0;31m# ------------------------------------------------------------------------\u001b[0m\u001b[0;34m\u001b[0m\u001b[0;34m\u001b[0m\u001b[0;34m\u001b[0m\u001b[0m\n",
      "\u001b[0;32m~/.conda/envs/tf_cpu/lib/python3.7/site-packages/joblib/memory.py\u001b[0m in \u001b[0;36m__call__\u001b[0;34m(self, *args, **kwargs)\u001b[0m\n\u001b[1;32m    592\u001b[0m \u001b[0;34m\u001b[0m\u001b[0m\n\u001b[1;32m    593\u001b[0m     \u001b[0;32mdef\u001b[0m \u001b[0m__call__\u001b[0m\u001b[0;34m(\u001b[0m\u001b[0mself\u001b[0m\u001b[0;34m,\u001b[0m \u001b[0;34m*\u001b[0m\u001b[0margs\u001b[0m\u001b[0;34m,\u001b[0m \u001b[0;34m**\u001b[0m\u001b[0mkwargs\u001b[0m\u001b[0;34m)\u001b[0m\u001b[0;34m:\u001b[0m\u001b[0;34m\u001b[0m\u001b[0;34m\u001b[0m\u001b[0m\n\u001b[0;32m--> 594\u001b[0;31m         \u001b[0;32mreturn\u001b[0m \u001b[0mself\u001b[0m\u001b[0;34m.\u001b[0m\u001b[0m_cached_call\u001b[0m\u001b[0;34m(\u001b[0m\u001b[0margs\u001b[0m\u001b[0;34m,\u001b[0m \u001b[0mkwargs\u001b[0m\u001b[0;34m)\u001b[0m\u001b[0;34m[\u001b[0m\u001b[0;36m0\u001b[0m\u001b[0;34m]\u001b[0m\u001b[0;34m\u001b[0m\u001b[0;34m\u001b[0m\u001b[0m\n\u001b[0m\u001b[1;32m    595\u001b[0m \u001b[0;34m\u001b[0m\u001b[0m\n\u001b[1;32m    596\u001b[0m     \u001b[0;32mdef\u001b[0m \u001b[0m__getstate__\u001b[0m\u001b[0;34m(\u001b[0m\u001b[0mself\u001b[0m\u001b[0;34m)\u001b[0m\u001b[0;34m:\u001b[0m\u001b[0;34m\u001b[0m\u001b[0;34m\u001b[0m\u001b[0m\n",
      "\u001b[0;32m~/.conda/envs/tf_cpu/lib/python3.7/site-packages/joblib/memory.py\u001b[0m in \u001b[0;36m_cached_call\u001b[0;34m(self, args, kwargs, shelving)\u001b[0m\n\u001b[1;32m    535\u001b[0m \u001b[0;34m\u001b[0m\u001b[0m\n\u001b[1;32m    536\u001b[0m         \u001b[0;32mif\u001b[0m \u001b[0mmust_call\u001b[0m\u001b[0;34m:\u001b[0m\u001b[0;34m\u001b[0m\u001b[0;34m\u001b[0m\u001b[0m\n\u001b[0;32m--> 537\u001b[0;31m             \u001b[0mout\u001b[0m\u001b[0;34m,\u001b[0m \u001b[0mmetadata\u001b[0m \u001b[0;34m=\u001b[0m \u001b[0mself\u001b[0m\u001b[0;34m.\u001b[0m\u001b[0mcall\u001b[0m\u001b[0;34m(\u001b[0m\u001b[0;34m*\u001b[0m\u001b[0margs\u001b[0m\u001b[0;34m,\u001b[0m \u001b[0;34m**\u001b[0m\u001b[0mkwargs\u001b[0m\u001b[0;34m)\u001b[0m\u001b[0;34m\u001b[0m\u001b[0;34m\u001b[0m\u001b[0m\n\u001b[0m\u001b[1;32m    538\u001b[0m             \u001b[0;32mif\u001b[0m \u001b[0mself\u001b[0m\u001b[0;34m.\u001b[0m\u001b[0mmmap_mode\u001b[0m \u001b[0;32mis\u001b[0m \u001b[0;32mnot\u001b[0m \u001b[0;32mNone\u001b[0m\u001b[0;34m:\u001b[0m\u001b[0;34m\u001b[0m\u001b[0;34m\u001b[0m\u001b[0m\n\u001b[1;32m    539\u001b[0m                 \u001b[0;31m# Memmap the output at the first call to be consistent with\u001b[0m\u001b[0;34m\u001b[0m\u001b[0;34m\u001b[0m\u001b[0;34m\u001b[0m\u001b[0m\n",
      "\u001b[0;32m~/.conda/envs/tf_cpu/lib/python3.7/site-packages/joblib/memory.py\u001b[0m in \u001b[0;36mcall\u001b[0;34m(self, *args, **kwargs)\u001b[0m\n\u001b[1;32m    777\u001b[0m         \u001b[0;32mif\u001b[0m \u001b[0mself\u001b[0m\u001b[0;34m.\u001b[0m\u001b[0m_verbose\u001b[0m \u001b[0;34m>\u001b[0m \u001b[0;36m0\u001b[0m\u001b[0;34m:\u001b[0m\u001b[0;34m\u001b[0m\u001b[0;34m\u001b[0m\u001b[0m\n\u001b[1;32m    778\u001b[0m             \u001b[0mprint\u001b[0m\u001b[0;34m(\u001b[0m\u001b[0mformat_call\u001b[0m\u001b[0;34m(\u001b[0m\u001b[0mself\u001b[0m\u001b[0;34m.\u001b[0m\u001b[0mfunc\u001b[0m\u001b[0;34m,\u001b[0m \u001b[0margs\u001b[0m\u001b[0;34m,\u001b[0m \u001b[0mkwargs\u001b[0m\u001b[0;34m)\u001b[0m\u001b[0;34m)\u001b[0m\u001b[0;34m\u001b[0m\u001b[0;34m\u001b[0m\u001b[0m\n\u001b[0;32m--> 779\u001b[0;31m         \u001b[0moutput\u001b[0m \u001b[0;34m=\u001b[0m \u001b[0mself\u001b[0m\u001b[0;34m.\u001b[0m\u001b[0mfunc\u001b[0m\u001b[0;34m(\u001b[0m\u001b[0;34m*\u001b[0m\u001b[0margs\u001b[0m\u001b[0;34m,\u001b[0m \u001b[0;34m**\u001b[0m\u001b[0mkwargs\u001b[0m\u001b[0;34m)\u001b[0m\u001b[0;34m\u001b[0m\u001b[0;34m\u001b[0m\u001b[0m\n\u001b[0m\u001b[1;32m    780\u001b[0m         self.store_backend.dump_item(\n\u001b[1;32m    781\u001b[0m             [func_id, args_id], output, verbose=self._verbose)\n",
      "\u001b[0;31mTypeError\u001b[0m: 'str' object is not callable"
     ]
    }
   ],
   "source": [
    "memory.eval(\"grd.best_estimator_\")"
   ]
  },
  {
   "cell_type": "code",
   "execution_count": 26,
   "metadata": {},
   "outputs": [
    {
     "data": {
      "text/html": [
       "<div>\n",
       "<style scoped>\n",
       "    .dataframe tbody tr th:only-of-type {\n",
       "        vertical-align: middle;\n",
       "    }\n",
       "\n",
       "    .dataframe tbody tr th {\n",
       "        vertical-align: top;\n",
       "    }\n",
       "\n",
       "    .dataframe thead th {\n",
       "        text-align: right;\n",
       "    }\n",
       "</style>\n",
       "<table border=\"1\" class=\"dataframe\">\n",
       "  <thead>\n",
       "    <tr style=\"text-align: right;\">\n",
       "      <th></th>\n",
       "      <th>mean_fit_time</th>\n",
       "      <th>std_fit_time</th>\n",
       "      <th>mean_score_time</th>\n",
       "      <th>std_score_time</th>\n",
       "      <th>param_classifier</th>\n",
       "      <th>param_preprocessor</th>\n",
       "      <th>param_preprocessor__k</th>\n",
       "      <th>param_preprocessor__alpha</th>\n",
       "      <th>param_preprocessor__score_func</th>\n",
       "      <th>params</th>\n",
       "      <th>split0_test_accuracy</th>\n",
       "      <th>split1_test_accuracy</th>\n",
       "      <th>split2_test_accuracy</th>\n",
       "      <th>split3_test_accuracy</th>\n",
       "      <th>split4_test_accuracy</th>\n",
       "      <th>mean_test_accuracy</th>\n",
       "      <th>std_test_accuracy</th>\n",
       "      <th>rank_test_accuracy</th>\n",
       "    </tr>\n",
       "  </thead>\n",
       "  <tbody>\n",
       "    <tr>\n",
       "      <th>0</th>\n",
       "      <td>0.015612</td>\n",
       "      <td>0.001883</td>\n",
       "      <td>0.002612</td>\n",
       "      <td>0.001253</td>\n",
       "      <td>GaussianNB()</td>\n",
       "      <td>SelectKBest()</td>\n",
       "      <td>5</td>\n",
       "      <td>NaN</td>\n",
       "      <td>NaN</td>\n",
       "      <td>{'classifier': GaussianNB(), 'preprocessor': S...</td>\n",
       "      <td>0.30</td>\n",
       "      <td>0.684211</td>\n",
       "      <td>0.736842</td>\n",
       "      <td>0.578947</td>\n",
       "      <td>0.526316</td>\n",
       "      <td>0.565263</td>\n",
       "      <td>0.152090</td>\n",
       "      <td>3</td>\n",
       "    </tr>\n",
       "    <tr>\n",
       "      <th>1</th>\n",
       "      <td>0.012613</td>\n",
       "      <td>0.000110</td>\n",
       "      <td>0.003561</td>\n",
       "      <td>0.000128</td>\n",
       "      <td>KNeighborsClassifier()</td>\n",
       "      <td>SelectKBest()</td>\n",
       "      <td>5</td>\n",
       "      <td>NaN</td>\n",
       "      <td>NaN</td>\n",
       "      <td>{'classifier': KNeighborsClassifier(), 'prepro...</td>\n",
       "      <td>0.45</td>\n",
       "      <td>0.631579</td>\n",
       "      <td>0.684211</td>\n",
       "      <td>0.578947</td>\n",
       "      <td>0.526316</td>\n",
       "      <td>0.574211</td>\n",
       "      <td>0.081407</td>\n",
       "      <td>2</td>\n",
       "    </tr>\n",
       "    <tr>\n",
       "      <th>2</th>\n",
       "      <td>0.020750</td>\n",
       "      <td>0.002364</td>\n",
       "      <td>0.012928</td>\n",
       "      <td>0.000590</td>\n",
       "      <td>GaussianNB()</td>\n",
       "      <td>SelectFdr()</td>\n",
       "      <td>NaN</td>\n",
       "      <td>0.1</td>\n",
       "      <td>&lt;function f_classif at 0x7f0959f92cb0&gt;</td>\n",
       "      <td>{'classifier': GaussianNB(), 'preprocessor': S...</td>\n",
       "      <td>0.50</td>\n",
       "      <td>0.473684</td>\n",
       "      <td>0.473684</td>\n",
       "      <td>0.473684</td>\n",
       "      <td>0.473684</td>\n",
       "      <td>0.478947</td>\n",
       "      <td>0.010526</td>\n",
       "      <td>4</td>\n",
       "    </tr>\n",
       "    <tr>\n",
       "      <th>3</th>\n",
       "      <td>0.013567</td>\n",
       "      <td>0.001528</td>\n",
       "      <td>0.020003</td>\n",
       "      <td>0.025467</td>\n",
       "      <td>KNeighborsClassifier()</td>\n",
       "      <td>SelectFdr()</td>\n",
       "      <td>NaN</td>\n",
       "      <td>0.1</td>\n",
       "      <td>&lt;function f_classif at 0x7f0959f92cb0&gt;</td>\n",
       "      <td>{'classifier': KNeighborsClassifier(), 'prepro...</td>\n",
       "      <td>0.90</td>\n",
       "      <td>0.894737</td>\n",
       "      <td>0.947368</td>\n",
       "      <td>0.894737</td>\n",
       "      <td>0.789474</td>\n",
       "      <td>0.885263</td>\n",
       "      <td>0.051825</td>\n",
       "      <td>1</td>\n",
       "    </tr>\n",
       "  </tbody>\n",
       "</table>\n",
       "</div>"
      ],
      "text/plain": [
       "   mean_fit_time  std_fit_time  mean_score_time  std_score_time  \\\n",
       "0       0.015612      0.001883         0.002612        0.001253   \n",
       "1       0.012613      0.000110         0.003561        0.000128   \n",
       "2       0.020750      0.002364         0.012928        0.000590   \n",
       "3       0.013567      0.001528         0.020003        0.025467   \n",
       "\n",
       "         param_classifier param_preprocessor param_preprocessor__k  \\\n",
       "0            GaussianNB()      SelectKBest()                     5   \n",
       "1  KNeighborsClassifier()      SelectKBest()                     5   \n",
       "2            GaussianNB()        SelectFdr()                   NaN   \n",
       "3  KNeighborsClassifier()        SelectFdr()                   NaN   \n",
       "\n",
       "  param_preprocessor__alpha          param_preprocessor__score_func  \\\n",
       "0                       NaN                                     NaN   \n",
       "1                       NaN                                     NaN   \n",
       "2                       0.1  <function f_classif at 0x7f0959f92cb0>   \n",
       "3                       0.1  <function f_classif at 0x7f0959f92cb0>   \n",
       "\n",
       "                                              params  split0_test_accuracy  \\\n",
       "0  {'classifier': GaussianNB(), 'preprocessor': S...                  0.30   \n",
       "1  {'classifier': KNeighborsClassifier(), 'prepro...                  0.45   \n",
       "2  {'classifier': GaussianNB(), 'preprocessor': S...                  0.50   \n",
       "3  {'classifier': KNeighborsClassifier(), 'prepro...                  0.90   \n",
       "\n",
       "   split1_test_accuracy  split2_test_accuracy  split3_test_accuracy  \\\n",
       "0              0.684211              0.736842              0.578947   \n",
       "1              0.631579              0.684211              0.578947   \n",
       "2              0.473684              0.473684              0.473684   \n",
       "3              0.894737              0.947368              0.894737   \n",
       "\n",
       "   split4_test_accuracy  mean_test_accuracy  std_test_accuracy  \\\n",
       "0              0.526316            0.565263           0.152090   \n",
       "1              0.526316            0.574211           0.081407   \n",
       "2              0.473684            0.478947           0.010526   \n",
       "3              0.789474            0.885263           0.051825   \n",
       "\n",
       "   rank_test_accuracy  \n",
       "0                   3  \n",
       "1                   2  \n",
       "2                   4  \n",
       "3                   1  "
      ]
     },
     "execution_count": 26,
     "metadata": {},
     "output_type": "execute_result"
    }
   ],
   "source": [
    "#gridseach result to dataframe\n",
    "df = pd.DataFrame(grd.cv_results_)\n",
    "df"
   ]
  },
  {
   "cell_type": "code",
   "execution_count": 34,
   "metadata": {},
   "outputs": [
    {
     "ename": "AttributeError",
     "evalue": "'GridSearchCV' object has no attribute 'best_estimator_'",
     "output_type": "error",
     "traceback": [
      "\u001b[0;31m---------------------------------------------------------------------------\u001b[0m",
      "\u001b[0;31mAttributeError\u001b[0m                            Traceback (most recent call last)",
      "\u001b[0;32m/tmp/ipykernel_11639/260335812.py\u001b[0m in \u001b[0;36m<module>\u001b[0;34m\u001b[0m\n\u001b[0;32m----> 1\u001b[0;31m \u001b[0mgrd\u001b[0m\u001b[0;34m.\u001b[0m\u001b[0mbest_estimator_\u001b[0m\u001b[0;34m\u001b[0m\u001b[0;34m\u001b[0m\u001b[0m\n\u001b[0m",
      "\u001b[0;31mAttributeError\u001b[0m: 'GridSearchCV' object has no attribute 'best_estimator_'"
     ]
    }
   ],
   "source": [
    "grd.best_estimator_"
   ]
  },
  {
   "cell_type": "code",
   "execution_count": 55,
   "metadata": {},
   "outputs": [
    {
     "data": {
      "text/plain": [
       "dict_keys(['copy', 'iterated_power', 'n_components', 'random_state', 'svd_solver', 'tol', 'whiten'])"
      ]
     },
     "execution_count": 55,
     "metadata": {},
     "output_type": "execute_result"
    }
   ],
   "source": [
    "grd.estimator.named_steps['preprocessor'].get_params().keys()"
   ]
  },
  {
   "cell_type": "code",
   "execution_count": null,
   "metadata": {},
   "outputs": [],
   "source": [
    "fs = grd.best_estimator_.named_steps['fs']\n"
   ]
  },
  {
   "cell_type": "code",
   "execution_count": 10,
   "metadata": {},
   "outputs": [
    {
     "ename": "AttributeError",
     "evalue": "Estimator preprocessor does not provide get_feature_names_out. Did you mean to call pipeline[:-1].get_feature_names_out()?",
     "output_type": "error",
     "traceback": [
      "\u001b[0;31m---------------------------------------------------------------------------\u001b[0m",
      "\u001b[0;31mAttributeError\u001b[0m                            Traceback (most recent call last)",
      "\u001b[0;32m/tmp/ipykernel_11639/1669052971.py\u001b[0m in \u001b[0;36m<module>\u001b[0;34m\u001b[0m\n\u001b[0;32m----> 1\u001b[0;31m \u001b[0mpipe\u001b[0m\u001b[0;34m[\u001b[0m\u001b[0;34m:\u001b[0m\u001b[0;34m-\u001b[0m\u001b[0;36m1\u001b[0m\u001b[0;34m]\u001b[0m\u001b[0;34m.\u001b[0m\u001b[0mget_feature_names_out\u001b[0m\u001b[0;34m(\u001b[0m\u001b[0;34m)\u001b[0m\u001b[0;34m\u001b[0m\u001b[0;34m\u001b[0m\u001b[0m\n\u001b[0m",
      "\u001b[0;32m~/.conda/envs/tf_cpu/lib/python3.7/site-packages/sklearn/pipeline.py\u001b[0m in \u001b[0;36mget_feature_names_out\u001b[0;34m(self, input_features)\u001b[0m\n\u001b[1;32m    752\u001b[0m                     \u001b[0;34m\"Estimator {} does not provide get_feature_names_out. \"\u001b[0m\u001b[0;34m\u001b[0m\u001b[0;34m\u001b[0m\u001b[0m\n\u001b[1;32m    753\u001b[0m                     \u001b[0;34m\"Did you mean to call pipeline[:-1].get_feature_names_out\"\u001b[0m\u001b[0;34m\u001b[0m\u001b[0;34m\u001b[0m\u001b[0m\n\u001b[0;32m--> 754\u001b[0;31m                     \u001b[0;34m\"()?\"\u001b[0m\u001b[0;34m.\u001b[0m\u001b[0mformat\u001b[0m\u001b[0;34m(\u001b[0m\u001b[0mname\u001b[0m\u001b[0;34m)\u001b[0m\u001b[0;34m\u001b[0m\u001b[0;34m\u001b[0m\u001b[0m\n\u001b[0m\u001b[1;32m    755\u001b[0m                 )\n\u001b[1;32m    756\u001b[0m             \u001b[0mfeature_names_out\u001b[0m \u001b[0;34m=\u001b[0m \u001b[0mtransform\u001b[0m\u001b[0;34m.\u001b[0m\u001b[0mget_feature_names_out\u001b[0m\u001b[0;34m(\u001b[0m\u001b[0mfeature_names_out\u001b[0m\u001b[0;34m)\u001b[0m\u001b[0;34m\u001b[0m\u001b[0;34m\u001b[0m\u001b[0m\n",
      "\u001b[0;31mAttributeError\u001b[0m: Estimator preprocessor does not provide get_feature_names_out. Did you mean to call pipeline[:-1].get_feature_names_out()?"
     ]
    }
   ],
   "source": [
    "pipe[:-1].get_feature_names_out()\n"
   ]
  },
  {
   "cell_type": "code",
   "execution_count": null,
   "metadata": {},
   "outputs": [],
   "source": []
  },
  {
   "cell_type": "code",
   "execution_count": 49,
   "metadata": {},
   "outputs": [
    {
     "ename": "AttributeError",
     "evalue": "'GridSearchCV' object has no attribute 'classifier'",
     "output_type": "error",
     "traceback": [
      "\u001b[0;31m---------------------------------------------------------------------------\u001b[0m",
      "\u001b[0;31mAttributeError\u001b[0m                            Traceback (most recent call last)",
      "\u001b[0;32m/tmp/ipykernel_19846/1357990956.py\u001b[0m in \u001b[0;36m<module>\u001b[0;34m\u001b[0m\n\u001b[0;32m----> 1\u001b[0;31m \u001b[0mx\u001b[0m\u001b[0;34m.\u001b[0m\u001b[0mclassifier\u001b[0m\u001b[0;34m\u001b[0m\u001b[0;34m\u001b[0m\u001b[0m\n\u001b[0m",
      "\u001b[0;31mAttributeError\u001b[0m: 'GridSearchCV' object has no attribute 'classifier'"
     ]
    }
   ],
   "source": [
    "x.classifier"
   ]
  },
  {
   "cell_type": "code",
   "execution_count": 46,
   "metadata": {},
   "outputs": [
    {
     "ename": "AttributeError",
     "evalue": "'Pipeline' object has no attribute 'select'",
     "output_type": "error",
     "traceback": [
      "\u001b[0;31m---------------------------------------------------------------------------\u001b[0m",
      "\u001b[0;31mAttributeError\u001b[0m                            Traceback (most recent call last)",
      "\u001b[0;32m/tmp/ipykernel_19846/1377238232.py\u001b[0m in \u001b[0;36m<module>\u001b[0;34m\u001b[0m\n\u001b[0;32m----> 1\u001b[0;31m \u001b[0mpipe\u001b[0m\u001b[0;34m.\u001b[0m\u001b[0mselect\u001b[0m\u001b[0;34m\u001b[0m\u001b[0;34m\u001b[0m\u001b[0m\n\u001b[0m",
      "\u001b[0;31mAttributeError\u001b[0m: 'Pipeline' object has no attribute 'select'"
     ]
    }
   ],
   "source": [
    "pipe.select"
   ]
  },
  {
   "cell_type": "code",
   "execution_count": 38,
   "metadata": {},
   "outputs": [
    {
     "data": {
      "text/plain": [
       "('preprocessor', PCA())"
      ]
     },
     "execution_count": 38,
     "metadata": {},
     "output_type": "execute_result"
    }
   ],
   "source": [
    "pipe.steps[0]"
   ]
  },
  {
   "cell_type": "code",
   "execution_count": 35,
   "metadata": {},
   "outputs": [
    {
     "data": {
      "text/plain": [
       "PCA()"
      ]
     },
     "execution_count": 35,
     "metadata": {},
     "output_type": "execute_result"
    }
   ],
   "source": [
    "pipe.get_params()[\"preprocessor\"]clf.steps[0]"
   ]
  },
  {
   "cell_type": "code",
   "execution_count": 30,
   "metadata": {},
   "outputs": [
    {
     "data": {
      "text/plain": [
       "array([[ 2,  2,  2, ...,  2,  0,  0],\n",
       "       [ 0,  2,  2, ...,  0,  0, -2],\n",
       "       [ 0, -2, -2, ...,  2,  2,  0],\n",
       "       ...,\n",
       "       [ 0, -2,  2, ...,  2,  0, -2],\n",
       "       [ 2,  2,  2, ...,  2, -2, -2],\n",
       "       [ 2,  2,  2, ...,  2,  2,  2]], dtype=int16)"
      ]
     },
     "execution_count": 30,
     "metadata": {},
     "output_type": "execute_result"
    }
   ],
   "source": [
    "X"
   ]
  },
  {
   "cell_type": "code",
   "execution_count": 22,
   "metadata": {},
   "outputs": [
    {
     "data": {
      "text/html": [
       "<div>\n",
       "<style scoped>\n",
       "    .dataframe tbody tr th:only-of-type {\n",
       "        vertical-align: middle;\n",
       "    }\n",
       "\n",
       "    .dataframe tbody tr th {\n",
       "        vertical-align: top;\n",
       "    }\n",
       "\n",
       "    .dataframe thead th {\n",
       "        text-align: right;\n",
       "    }\n",
       "</style>\n",
       "<table border=\"1\" class=\"dataframe\">\n",
       "  <thead>\n",
       "    <tr style=\"text-align: right;\">\n",
       "      <th></th>\n",
       "      <th>mean_fit_time</th>\n",
       "      <th>std_fit_time</th>\n",
       "      <th>mean_score_time</th>\n",
       "      <th>std_score_time</th>\n",
       "      <th>param_classifier</th>\n",
       "      <th>param_preprocessor</th>\n",
       "      <th>param_preprocessor__k</th>\n",
       "      <th>params</th>\n",
       "      <th>split0_test_accuracy</th>\n",
       "      <th>split1_test_accuracy</th>\n",
       "      <th>split2_test_accuracy</th>\n",
       "      <th>split3_test_accuracy</th>\n",
       "      <th>split4_test_accuracy</th>\n",
       "      <th>mean_test_accuracy</th>\n",
       "      <th>std_test_accuracy</th>\n",
       "      <th>rank_test_accuracy</th>\n",
       "    </tr>\n",
       "  </thead>\n",
       "  <tbody>\n",
       "    <tr>\n",
       "      <th>0</th>\n",
       "      <td>0.018851</td>\n",
       "      <td>0.003117</td>\n",
       "      <td>0.002743</td>\n",
       "      <td>0.000627</td>\n",
       "      <td>GaussianNB()</td>\n",
       "      <td>SelectKBest()</td>\n",
       "      <td>5</td>\n",
       "      <td>{'classifier': GaussianNB(), 'preprocessor': S...</td>\n",
       "      <td>0.30</td>\n",
       "      <td>0.684211</td>\n",
       "      <td>0.736842</td>\n",
       "      <td>0.578947</td>\n",
       "      <td>0.526316</td>\n",
       "      <td>0.565263</td>\n",
       "      <td>0.152090</td>\n",
       "      <td>2</td>\n",
       "    </tr>\n",
       "    <tr>\n",
       "      <th>1</th>\n",
       "      <td>0.012831</td>\n",
       "      <td>0.000297</td>\n",
       "      <td>0.003987</td>\n",
       "      <td>0.000898</td>\n",
       "      <td>KNeighborsClassifier()</td>\n",
       "      <td>SelectKBest()</td>\n",
       "      <td>5</td>\n",
       "      <td>{'classifier': KNeighborsClassifier(), 'prepro...</td>\n",
       "      <td>0.45</td>\n",
       "      <td>0.631579</td>\n",
       "      <td>0.684211</td>\n",
       "      <td>0.578947</td>\n",
       "      <td>0.526316</td>\n",
       "      <td>0.574211</td>\n",
       "      <td>0.081407</td>\n",
       "      <td>1</td>\n",
       "    </tr>\n",
       "  </tbody>\n",
       "</table>\n",
       "</div>"
      ],
      "text/plain": [
       "   mean_fit_time  std_fit_time  mean_score_time  std_score_time  \\\n",
       "0       0.018851      0.003117         0.002743        0.000627   \n",
       "1       0.012831      0.000297         0.003987        0.000898   \n",
       "\n",
       "         param_classifier param_preprocessor param_preprocessor__k  \\\n",
       "0            GaussianNB()      SelectKBest()                     5   \n",
       "1  KNeighborsClassifier()      SelectKBest()                     5   \n",
       "\n",
       "                                              params  split0_test_accuracy  \\\n",
       "0  {'classifier': GaussianNB(), 'preprocessor': S...                  0.30   \n",
       "1  {'classifier': KNeighborsClassifier(), 'prepro...                  0.45   \n",
       "\n",
       "   split1_test_accuracy  split2_test_accuracy  split3_test_accuracy  \\\n",
       "0              0.684211              0.736842              0.578947   \n",
       "1              0.631579              0.684211              0.578947   \n",
       "\n",
       "   split4_test_accuracy  mean_test_accuracy  std_test_accuracy  \\\n",
       "0              0.526316            0.565263           0.152090   \n",
       "1              0.526316            0.574211           0.081407   \n",
       "\n",
       "   rank_test_accuracy  \n",
       "0                   2  \n",
       "1                   1  "
      ]
     },
     "execution_count": 22,
     "metadata": {},
     "output_type": "execute_result"
    }
   ],
   "source": []
  },
  {
   "cell_type": "code",
   "execution_count": null,
   "metadata": {},
   "outputs": [],
   "source": [
    "memory.clear(warn=False)\n",
    "rmtree(location)"
   ]
  }
 ],
 "metadata": {
  "kernelspec": {
   "display_name": "Python 3.7.12 ('tf_cpu')",
   "language": "python",
   "name": "python3"
  },
  "language_info": {
   "codemirror_mode": {
    "name": "ipython",
    "version": 3
   },
   "file_extension": ".py",
   "mimetype": "text/x-python",
   "name": "python",
   "nbconvert_exporter": "python",
   "pygments_lexer": "ipython3",
   "version": "3.7.12"
  },
  "orig_nbformat": 4,
  "vscode": {
   "interpreter": {
    "hash": "2d3f0ae1c4fd3075523c8386ec335a5274e8d52dd5107da19ac17cea63255776"
   }
  }
 },
 "nbformat": 4,
 "nbformat_minor": 2
}
